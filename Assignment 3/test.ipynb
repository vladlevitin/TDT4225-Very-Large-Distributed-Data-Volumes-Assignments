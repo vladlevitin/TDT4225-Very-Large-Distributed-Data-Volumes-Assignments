{
 "cells": [
  {
   "cell_type": "code",
   "execution_count": 13,
   "metadata": {},
   "outputs": [
    {
     "name": "stdout",
     "output_type": "stream",
     "text": [
      "2008-10-23 02:53:04\n"
     ]
    }
   ],
   "source": [
    "import pandas as pd\n",
    "\n",
    "s='2008/10/23 02:53:04'\n",
    "\n",
    "dt=pd.to_datetime(s)\n",
    "\n",
    "print(dt)"
   ]
  },
  {
   "cell_type": "code",
   "execution_count": null,
   "metadata": {},
   "outputs": [],
   "source": [
    "df = pd.read_csv('test.csv', sep='\\t',dtype=str)"
   ]
  },
  {
   "cell_type": "code",
   "execution_count": 21,
   "metadata": {},
   "outputs": [
    {
     "data": {
      "text/plain": [
       "1"
      ]
     },
     "execution_count": 21,
     "metadata": {},
     "output_type": "execute_result"
    }
   ],
   "source": [
    "df = pd.DataFrame({'A': [1, 2, 3], 'B': [4, 5, 6]})\n",
    "\n",
    "\n",
    "df['A'].iloc[0]"
   ]
  },
  {
   "cell_type": "code",
   "execution_count": 28,
   "metadata": {},
   "outputs": [],
   "source": [
    "def create_transportation_labels_df(path: str):\n",
    "    df =  pd.read_csv(path, sep='\\t',dtype=str)\n",
    "    #df[['Start Time','End Time']] = df[['Start Time','End Time']].apply(pd.to_datetime)"
   ]
  },
  {
   "cell_type": "code",
   "execution_count": 34,
   "metadata": {},
   "outputs": [
    {
     "name": "stdout",
     "output_type": "stream",
     "text": [
      "dataset/Data/010/labels.txt\n"
     ]
    }
   ],
   "source": [
    "path = 'dataset/Data'\n",
    "\n",
    "print(path+\"/\"+'010'+'/labels.txt')\n",
    "\n",
    "df = create_transportation_labels_df(path+\"/\"+'010'+'/labels.txt')\n",
    "df"
   ]
  },
  {
   "cell_type": "code",
   "execution_count": 33,
   "metadata": {},
   "outputs": [
    {
     "data": {
      "text/html": [
       "<div>\n",
       "<style scoped>\n",
       "    .dataframe tbody tr th:only-of-type {\n",
       "        vertical-align: middle;\n",
       "    }\n",
       "\n",
       "    .dataframe tbody tr th {\n",
       "        vertical-align: top;\n",
       "    }\n",
       "\n",
       "    .dataframe thead th {\n",
       "        text-align: right;\n",
       "    }\n",
       "</style>\n",
       "<table border=\"1\" class=\"dataframe\">\n",
       "  <thead>\n",
       "    <tr style=\"text-align: right;\">\n",
       "      <th></th>\n",
       "      <th>Start Time</th>\n",
       "      <th>End Time</th>\n",
       "      <th>Transportation Mode</th>\n",
       "    </tr>\n",
       "  </thead>\n",
       "  <tbody>\n",
       "    <tr>\n",
       "      <th>0</th>\n",
       "      <td>2007-06-26 11:32:29</td>\n",
       "      <td>2007-06-26 11:40:29</td>\n",
       "      <td>bus</td>\n",
       "    </tr>\n",
       "    <tr>\n",
       "      <th>1</th>\n",
       "      <td>2008-03-28 14:52:54</td>\n",
       "      <td>2008-03-28 15:59:59</td>\n",
       "      <td>train</td>\n",
       "    </tr>\n",
       "    <tr>\n",
       "      <th>2</th>\n",
       "      <td>2008-03-28 16:00:00</td>\n",
       "      <td>2008-03-28 22:02:00</td>\n",
       "      <td>train</td>\n",
       "    </tr>\n",
       "    <tr>\n",
       "      <th>3</th>\n",
       "      <td>2008-03-29 01:27:50</td>\n",
       "      <td>2008-03-29 15:59:59</td>\n",
       "      <td>train</td>\n",
       "    </tr>\n",
       "    <tr>\n",
       "      <th>4</th>\n",
       "      <td>2008-03-29 16:00:00</td>\n",
       "      <td>2008-03-30 15:59:59</td>\n",
       "      <td>train</td>\n",
       "    </tr>\n",
       "    <tr>\n",
       "      <th>...</th>\n",
       "      <td>...</td>\n",
       "      <td>...</td>\n",
       "      <td>...</td>\n",
       "    </tr>\n",
       "    <tr>\n",
       "      <th>429</th>\n",
       "      <td>2008-12-07 10:30:54</td>\n",
       "      <td>2008-12-07 10:34:14</td>\n",
       "      <td>taxi</td>\n",
       "    </tr>\n",
       "    <tr>\n",
       "      <th>430</th>\n",
       "      <td>2008-12-07 10:59:29</td>\n",
       "      <td>2008-12-07 11:29:48</td>\n",
       "      <td>train</td>\n",
       "    </tr>\n",
       "    <tr>\n",
       "      <th>431</th>\n",
       "      <td>2008-12-07 11:43:12</td>\n",
       "      <td>2008-12-07 12:23:26</td>\n",
       "      <td>bus</td>\n",
       "    </tr>\n",
       "    <tr>\n",
       "      <th>432</th>\n",
       "      <td>2008-12-07 12:23:34</td>\n",
       "      <td>2008-12-07 12:25:07</td>\n",
       "      <td>walk</td>\n",
       "    </tr>\n",
       "    <tr>\n",
       "      <th>433</th>\n",
       "      <td>2008-12-07 12:25:34</td>\n",
       "      <td>2008-12-07 12:37:28</td>\n",
       "      <td>taxi</td>\n",
       "    </tr>\n",
       "  </tbody>\n",
       "</table>\n",
       "<p>434 rows × 3 columns</p>\n",
       "</div>"
      ],
      "text/plain": [
       "             Start Time            End Time Transportation Mode\n",
       "0   2007-06-26 11:32:29 2007-06-26 11:40:29                 bus\n",
       "1   2008-03-28 14:52:54 2008-03-28 15:59:59               train\n",
       "2   2008-03-28 16:00:00 2008-03-28 22:02:00               train\n",
       "3   2008-03-29 01:27:50 2008-03-29 15:59:59               train\n",
       "4   2008-03-29 16:00:00 2008-03-30 15:59:59               train\n",
       "..                  ...                 ...                 ...\n",
       "429 2008-12-07 10:30:54 2008-12-07 10:34:14                taxi\n",
       "430 2008-12-07 10:59:29 2008-12-07 11:29:48               train\n",
       "431 2008-12-07 11:43:12 2008-12-07 12:23:26                 bus\n",
       "432 2008-12-07 12:23:34 2008-12-07 12:25:07                walk\n",
       "433 2008-12-07 12:25:34 2008-12-07 12:37:28                taxi\n",
       "\n",
       "[434 rows x 3 columns]"
      ]
     },
     "execution_count": 33,
     "metadata": {},
     "output_type": "execute_result"
    }
   ],
   "source": [
    "new_path = path+\"/\"+'010'+'/labels.txt'\n",
    "\n",
    "df =  pd.read_csv(new_path, sep='\\t',dtype=str)\n",
    "df[['Start Time','End Time']] = df[['Start Time','End Time']].apply(pd.to_datetime)\n",
    "df"
   ]
  },
  {
   "cell_type": "code",
   "execution_count": null,
   "metadata": {},
   "outputs": [],
   "source": []
  }
 ],
 "metadata": {
  "kernelspec": {
   "display_name": "Python 3.10.7 64-bit ('3.10.7')",
   "language": "python",
   "name": "python3"
  },
  "language_info": {
   "codemirror_mode": {
    "name": "ipython",
    "version": 3
   },
   "file_extension": ".py",
   "mimetype": "text/x-python",
   "name": "python",
   "nbconvert_exporter": "python",
   "pygments_lexer": "ipython3",
   "version": "3.10.7"
  },
  "orig_nbformat": 4,
  "vscode": {
   "interpreter": {
    "hash": "0e748b08df6639b92156e1f0a2e584fc605f942beb5319c4ded409ee9197cfce"
   }
  }
 },
 "nbformat": 4,
 "nbformat_minor": 2
}
